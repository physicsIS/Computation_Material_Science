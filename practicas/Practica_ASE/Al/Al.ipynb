{
 "cells": [
  {
   "cell_type": "markdown",
   "metadata": {},
   "source": [
    "# Enunciado\n",
    "Construye una superficie de aluminio en el plano (111) con una supercelda (2x2x2) que contenga 8 átomos. \n",
    "\n",
    "Coloca un átomo de oxígeno en dos sitios: \n",
    "* Encima de un átomo de aluminio \n",
    "* En un sitio hueco entre tres átomos de aluminio. \n",
    "\n",
    "Exporta los archivos para Quantum ESPRESSO y optimiza ambas configuraciones"
   ]
  },
  {
   "cell_type": "code",
   "execution_count": 8,
   "metadata": {},
   "outputs": [],
   "source": [
    "from ase.build import fcc111, add_adsorbate\n",
    "from ase.visualize import view\n",
    "from ase.io import write"
   ]
  },
  {
   "cell_type": "code",
   "execution_count": 9,
   "metadata": {},
   "outputs": [
    {
     "data": {
      "text/plain": [
       "<Popen: returncode: None args: ['/home/hernan-barquero/anaconda3/bin/python'...>"
      ]
     },
     "execution_count": 9,
     "metadata": {},
     "output_type": "execute_result"
    }
   ],
   "source": [
    "# Create an Al(111) surface with a 2x2x2 supercell\n",
    "slab = fcc111('Al', size=(2, 2, 2), vacuum=10.0)\n",
    "view(slab)"
   ]
  },
  {
   "cell_type": "markdown",
   "metadata": {},
   "source": [
    "# Oxígeno sobre Aluminio"
   ]
  },
  {
   "cell_type": "code",
   "execution_count": 10,
   "metadata": {},
   "outputs": [
    {
     "data": {
      "text/plain": [
       "<Popen: returncode: None args: ['/home/hernan-barquero/anaconda3/bin/python'...>"
      ]
     },
     "execution_count": 10,
     "metadata": {},
     "output_type": "execute_result"
    }
   ],
   "source": [
    "slab_over = fcc111('Al', size=(2, 2, 2), vacuum=10.0)\n",
    "# Add an oxygen atom on top of an aluminum atom\n",
    "add_adsorbate(slab_over, 'O', height=1.5, position='ontop')\n",
    "view(slab_over)"
   ]
  },
  {
   "cell_type": "code",
   "execution_count": 11,
   "metadata": {},
   "outputs": [],
   "source": [
    "# Genera un archivo de entrada para Quantum ESPRESSO con la configuración \n",
    "write(\"O_over/pw.in\", slab_over, format=\"espresso-in\", \n",
    "\tpseudopotentials={\n",
    "    \"O\": \"O.pbe-n-kjpaw_psl.1.0.0.UPF\" ,\n",
    "\t\"Al\": \"Al.pbe-n-kjpaw_psl.1.0.0.UPF\"\n",
    "}, input_data={\n",
    "    \"control\": {\n",
    "        \"calculation\": \"relax\",           # Indica que se hará una relajación de la estructura.\n",
    "        \"prefix\": \"Al-Al^O\",    # Prefijo para los archivos de salida generados por Quantum ESPRESSO.\n",
    "        \"outdir\": \".\",             # Carpeta donde se guardarán los archivos temporales de Quantum ESPRESSO.\n",
    "        \"pseudo_dir\": \"../../pseudo/\",          # Carpeta donde se encuentran los pseudopotenciales.\n",
    "\t\t\"tstress\": True,\n",
    "\t\t\"tprnfor\": True\n",
    "    },\n",
    "    \"system\": {\n",
    "        \"ecutwfc\": 58,                    # Corte de energía para las funciones de onda (en Ry).\n",
    "        \"ecutrho\": 256,                   # Corte de energía para la densidad de carga (en Ry).\n",
    "        \"occupations\": \"smearing\",        # Usa un método de smearing para las ocupaciones electrónicas.\n",
    "        \"smearing\": \"mp\",                 # Método de smearing: Methfessel-Paxton.\n",
    "        \"degauss\": 0.02 ,                  # Ancho del smearing en Ry.\n",
    "\t\t\"ibrav\":0, \t\t\t\t\t\t\t# Define una celda generica\n",
    "    },\n",
    "    \"electrons\": {\n",
    "        \"conv_thr\": 1e-6                  # Criterio de convergencia para las iteraciones electrónicas.\n",
    "    }\n",
    "}, kpts = (3,3,3),koffset = (0,0,0))"
   ]
  },
  {
   "cell_type": "markdown",
   "metadata": {},
   "source": [
    "# Oxígeno entre los aluminios"
   ]
  },
  {
   "cell_type": "code",
   "execution_count": 12,
   "metadata": {},
   "outputs": [
    {
     "data": {
      "text/plain": [
       "<Popen: returncode: None args: ['/home/hernan-barquero/anaconda3/bin/python'...>"
      ]
     },
     "execution_count": 12,
     "metadata": {},
     "output_type": "execute_result"
    }
   ],
   "source": [
    "# Create an Al(111) surface with a 2x2x2 supercell\n",
    "slab_between = fcc111('Al', size=(2, 2, 2), vacuum=10.0)\n",
    "# Add another oxygen atom in an fcc hollow site\n",
    "add_adsorbate(slab_between, 'O', height=1.5, position='fcc')\n",
    "view(slab_between)"
   ]
  },
  {
   "cell_type": "code",
   "execution_count": 13,
   "metadata": {},
   "outputs": [],
   "source": [
    "# Genera un archivo de entrada para Quantum ESPRESSO con la configuración \n",
    "write(\"O_between/pw.in\", slab_between, format=\"espresso-in\", \n",
    "\tpseudopotentials={\n",
    "    \"O\": \"O.pbe-n-kjpaw_psl.1.0.0.UPF\" ,\n",
    "\t\"Al\": \"Al.pbe-n-kjpaw_psl.1.0.0.UPF\"\n",
    "}, input_data={\n",
    "    \"control\": {\n",
    "        \"calculation\": \"relax\",           # Indica que se hará una relajación de la estructura.\n",
    "        \"prefix\": \"Al-O-Al\",    # Prefijo para los archivos de salida generados por Quantum ESPRESSO.\n",
    "        \"outdir\": \".\",             # Carpeta donde se guardarán los archivos temporales de Quantum ESPRESSO.\n",
    "        \"pseudo_dir\": \"../../pseudo/\",          # Carpeta donde se encuentran los pseudopotenciales.\n",
    "\t\t\"tstress\": True,\n",
    "\t\t\"tprnfor\": True\n",
    "    },\n",
    "    \"system\": {\n",
    "        \"ecutwfc\": 58,                    # Corte de energía para las funciones de onda (en Ry).\n",
    "        \"ecutrho\": 256,                   # Corte de energía para la densidad de carga (en Ry).\n",
    "        \"occupations\": \"smearing\",        # Usa un método de smearing para las ocupaciones electrónicas.\n",
    "        \"smearing\": \"mp\",                 # Método de smearing: Methfessel-Paxton.\n",
    "        \"degauss\": 0.02 ,                  # Ancho del smearing en Ry.\n",
    "\t\t\"ibrav\":0, \t\t\t\t\t\t\t# Define una celda generica\n",
    "    },\n",
    "    \"electrons\": {\n",
    "        \"conv_thr\": 1e-6                  # Criterio de convergencia para las iteraciones electrónicas.\n",
    "    }\n",
    "}, kpts = (3,3,3),koffset = (0,0,0))"
   ]
  }
 ],
 "metadata": {
  "kernelspec": {
   "display_name": "base",
   "language": "python",
   "name": "python3"
  },
  "language_info": {
   "codemirror_mode": {
    "name": "ipython",
    "version": 3
   },
   "file_extension": ".py",
   "mimetype": "text/x-python",
   "name": "python",
   "nbconvert_exporter": "python",
   "pygments_lexer": "ipython3",
   "version": "3.12.2"
  }
 },
 "nbformat": 4,
 "nbformat_minor": 2
}
