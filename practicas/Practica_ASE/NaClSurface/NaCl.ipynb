{
 "cells": [
  {
   "cell_type": "code",
   "execution_count": 25,
   "id": "bf37ac59-abf4-4970-8582-f4a34ea3451b",
   "metadata": {},
   "outputs": [
    {
     "data": {
      "text/plain": [
       "<Popen: returncode: None args: ['/nix/store/b467smbhrrig8iasyg2gazdiw1dxdk07...>"
      ]
     },
     "execution_count": 25,
     "metadata": {},
     "output_type": "execute_result"
    }
   ],
   "source": [
    "import ase\n",
    "\n",
    "nacl = ase.build.bulk(\"NaCl\", crystalstructure=\"rocksalt\", a=6)\n",
    "\n",
    "slab = ase.build.surface(nacl, (1, 0, 0), 2)\n",
    "\n",
    "supercell = slab.repeat((2, 2, 1))\n",
    "\n",
    "ase.build.add_adsorbate(supercell, \"Cl\", 1.0, position=(supercell[2].position[0], supercell[2].position[1]))\n",
    "\n",
    "supercell.center(vacuum=10, axis=2)\n",
    "\n",
    "ase.visualize.view(supercell)"
   ]
  },
  {
   "cell_type": "code",
   "execution_count": 18,
   "id": "c2ba2315-2071-4c27-a6e2-06d0ce5877bb",
   "metadata": {},
   "outputs": [
    {
     "data": {
      "text/plain": [
       "<Popen: returncode: None args: ['/nix/store/b467smbhrrig8iasyg2gazdiw1dxdk07...>"
      ]
     },
     "execution_count": 18,
     "metadata": {},
     "output_type": "execute_result"
    }
   ],
   "source": [
    "import ase\n",
    "\n",
    "nacl = ase.build.bulk(\"NaCl\", crystalstructure=\"rocksalt\", a=6)\n",
    "\n",
    "slab = ase.build.surface(nacl, (1, 0, 0), 2)\n",
    "\n",
    "supercell = slab.repeat((2, 2, 1))\n",
    "\n",
    "ase.build.add_adsorbate(supercell, \"Cl\", 1.0, position=(supercell[3].position[0], supercell[3].position[1]))\n",
    "\n",
    "supercell.center(vacuum=10, axis=2)\n",
    "\n",
    "ase.visualize.view(supercell)"
   ]
  }
 ],
 "metadata": {
  "kernelspec": {
   "display_name": "Python 3 (ipykernel)",
   "language": "python",
   "name": "python3"
  },
  "language_info": {
   "codemirror_mode": {
    "name": "ipython",
    "version": 3
   },
   "file_extension": ".py",
   "mimetype": "text/x-python",
   "name": "python",
   "nbconvert_exporter": "python",
   "pygments_lexer": "ipython3",
   "version": "3.11.11"
  }
 },
 "nbformat": 4,
 "nbformat_minor": 5
}
