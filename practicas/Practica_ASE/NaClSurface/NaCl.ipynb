{
 "cells": [
  {
   "cell_type": "markdown",
   "id": "bb6148bb",
   "metadata": {},
   "source": [
    "# Enunciado\n",
    "\n",
    "Construya una superficie de NaCl en el plano (100) con una supercelda (2x2x2) que contenga 16 átomos (8 de sodio y 8 de cloro). \n",
    "\n",
    "Coloque un átomo de sodio adicional en dos posiciones: \n",
    "\n",
    "* Sobre un átomo de sodio \n",
    "* Sobre un átomo de cloro. \n",
    "\n",
    "Exporte los archivos para Quantum ESPRESSO y optimiza ambas configuraciones."
   ]
  },
  {
   "cell_type": "code",
   "execution_count": 9,
   "id": "85a98356",
   "metadata": {},
   "outputs": [],
   "source": [
    "from ase import Atoms\n",
    "from ase.build import bulk, surface, add_adsorbate\n",
    "from ase.visualize import view\n",
    "from ase.io import write"
   ]
  },
  {
   "cell_type": "markdown",
   "id": "7077f343",
   "metadata": {},
   "source": [
    "# Cloro extra sobre un Sodio"
   ]
  },
  {
   "cell_type": "code",
   "execution_count": 10,
   "id": "14790380",
   "metadata": {},
   "outputs": [
    {
     "data": {
      "text/plain": [
       "<Popen: returncode: None args: ['/home/hernan-barquero/anaconda3/bin/python'...>"
      ]
     },
     "execution_count": 10,
     "metadata": {},
     "output_type": "execute_result"
    }
   ],
   "source": [
    "# Crear estructura de NaCl\n",
    "nacl = bulk(\"NaCl\", crystalstructure=\"rocksalt\", a=6)\n",
    "\n",
    "# Crear una superficie (1,0,0) con 2 capas\n",
    "slab = surface(nacl, (1, 0, 0), layers=2)\n",
    "\n",
    "# Expandir a una supercelda 2x2 en X e Y\n",
    "supercell_over_Na = slab.repeat((2, 2, 1))\n",
    "\n",
    "# Agregar un átomo de Cl como adsorbato sobre un Na\n",
    "add_adsorbate(supercell_over_Na, \"Cl\", height=1.0, position=(supercell_over_Na[2].position[0], supercell_over_Na[2].position[1]))\n",
    "\n",
    "# Centrar con vacío de 10 Å en la dirección Z\n",
    "supercell_over_Na.center(vacuum=10, axis=2)\n",
    "\n",
    "# Visualizar\n",
    "view(supercell_over_Na)"
   ]
  },
  {
   "cell_type": "code",
   "execution_count": 11,
   "id": "62a8bb15",
   "metadata": {},
   "outputs": [],
   "source": [
    "# Genera un archivo de entrada para Quantum ESPRESSO\n",
    "write(\"Na^Cl/pw.in\", supercell_over_Na, format=\"espresso-in\", \n",
    "\tpseudopotentials={\n",
    "    \"Cl\": \"Cl.pbe-n-kjpaw_psl.1.0.0.UPF\",\n",
    "    \"Na\": \"Na.pbe-spn-kjpaw_psl.1.0.0.UPF\"  \n",
    "}, input_data={\n",
    "    \"control\": {\n",
    "        \"calculation\": \"relax\",           # Indica que se hará una relajación de la estructura.\n",
    "        \"prefix\": \"NaCl-Na^Cl\",    # Prefijo para los archivos de salida generados por Quantum ESPRESSO.\n",
    "        \"outdir\": \".\",             # Carpeta donde se guardarán los archivos temporales de Quantum ESPRESSO.\n",
    "        \"pseudo_dir\": \"/home/adiaz/pseudo/\",          # Carpeta donde se encuentran los pseudopotenciales.\n",
    "\t\t\"tstress\": True,\n",
    "\t\t\"tprnfor\": True\n",
    "    },\n",
    "    \"system\": {\n",
    "        \"ecutwfc\": 65,                    # Corte de energía para las funciones de onda (en Ry).\n",
    "        \"ecutrho\": 520,                   # Corte de energía para la densidad de carga (en Ry).\n",
    "        \"occupations\": \"smearing\",        # Usa un método de smearing para las ocupaciones electrónicas.\n",
    "        \"smearing\": \"mp\",                 # Método de smearing: Methfessel-Paxton.\n",
    "        \"degauss\": 0.02 ,                  # Ancho del smearing en Ry.\n",
    "\t\t\"ibrav\":0, \t\t\t\t\t\t\t# Define una celda generica\n",
    "    },\n",
    "    \"electrons\": {\n",
    "        \"conv_thr\": 1e-6,                  # Criterio de convergencia para las iteraciones electrónicas.\n",
    "    \t\"mixing_beta\": 0.7,\n",
    "\t\t\"electron_maxstep\" : 200\n",
    "    }\n",
    "}, kpts = (8,8,8),koffset = (0,0,0))"
   ]
  },
  {
   "cell_type": "markdown",
   "id": "8f9c92d8",
   "metadata": {},
   "source": [
    "# Cloro extra sobre un Cloro"
   ]
  },
  {
   "cell_type": "code",
   "execution_count": 13,
   "id": "c5c78a25",
   "metadata": {},
   "outputs": [
    {
     "data": {
      "text/plain": [
       "<Popen: returncode: None args: ['/home/hernan-barquero/anaconda3/bin/python'...>"
      ]
     },
     "execution_count": 13,
     "metadata": {},
     "output_type": "execute_result"
    }
   ],
   "source": [
    "# Crear estructura de NaCl\n",
    "nacl = bulk(\"NaCl\", crystalstructure=\"rocksalt\", a=6)\n",
    "\n",
    "# Crear una superficie (1,0,0) con 2 capas\n",
    "slab = surface(nacl, (1, 0, 0), layers=2)\n",
    "\n",
    "# Expandir a una supercelda 2x2 en X e Y\n",
    "supercell_over_Cl = slab.repeat((2, 2, 1))\n",
    "\n",
    "# Agregar un átomo de Cl como adsorbato sobre otro Cl\n",
    "add_adsorbate(supercell_over_Cl, \"Cl\", height=1.0, position=(supercell_over_Cl[3].position[0], supercell_over_Cl[3].position[1]))\n",
    "\n",
    "# Centrar con vacío de 10 Å en la dirección Z\n",
    "supercell_over_Cl.center(vacuum=10, axis=2)\n",
    "\n",
    "# Visualizar\n",
    "view(supercell_over_Cl)"
   ]
  },
  {
   "cell_type": "code",
   "execution_count": 14,
   "id": "a9019740",
   "metadata": {},
   "outputs": [],
   "source": [
    "# Genera un archivo de entrada para Quantum ESPRESSO\n",
    "write(\"Cl^Cl/pw.in\", supercell_over_Cl, format=\"espresso-in\", \n",
    "\tpseudopotentials={\n",
    "    \"Cl\": \"Cl.pbe-n-kjpaw_psl.1.0.0.UPF\",\n",
    "    \"Na\": \"Na.pbe-spn-kjpaw_psl.1.0.0.UPF\"  \n",
    "}, input_data={\n",
    "    \"control\": {\n",
    "        \"calculation\": \"relax\",           # Indica que se hará una relajación de la estructura.\n",
    "        \"prefix\": \"NaCl-Cl^Cl\",    # Prefijo para los archivos de salida generados por Quantum ESPRESSO.\n",
    "        \"outdir\": \".\",             # Carpeta donde se guardarán los archivos temporales de Quantum ESPRESSO.\n",
    "        \"pseudo_dir\": \"/home/adiaz/pseudo/\",          # Carpeta donde se encuentran los pseudopotenciales.\n",
    "\t\t\"tstress\": True,\n",
    "\t\t\"tprnfor\": True\n",
    "    },\n",
    "    \"system\": {\n",
    "        \"ecutwfc\": 65,                    # Corte de energía para las funciones de onda (en Ry).\n",
    "        \"ecutrho\": 520,                   # Corte de energía para la densidad de carga (en Ry).\n",
    "        \"occupations\": \"smearing\",        # Usa un método de smearing para las ocupaciones electrónicas.\n",
    "        \"smearing\": \"mp\",                 # Método de smearing: Methfessel-Paxton.\n",
    "        \"degauss\": 0.02 ,                  # Ancho del smearing en Ry.\n",
    "\t\t\"ibrav\":0, \t\t\t\t\t\t\t# Define una celda generica\n",
    "    },\n",
    "    \"electrons\": {\n",
    "        \"conv_thr\": 1e-6,                  # Criterio de convergencia para las iteraciones electrónicas.\n",
    "    \t\"mixing_beta\": 0.7,\n",
    "\t\t\"electron_maxstep\" : 200\n",
    "    }\n",
    "}, kpts = (8,8,8),koffset = (0,0,0))"
   ]
  }
 ],
 "metadata": {
  "kernelspec": {
   "display_name": "base",
   "language": "python",
   "name": "python3"
  },
  "language_info": {
   "codemirror_mode": {
    "name": "ipython",
    "version": 3
   },
   "file_extension": ".py",
   "mimetype": "text/x-python",
   "name": "python",
   "nbconvert_exporter": "python",
   "pygments_lexer": "ipython3",
   "version": "3.12.2"
  }
 },
 "nbformat": 4,
 "nbformat_minor": 5
}
