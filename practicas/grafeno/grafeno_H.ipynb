{
 "cells": [
  {
   "cell_type": "code",
   "execution_count": 54,
   "metadata": {},
   "outputs": [],
   "source": [
    "from ase.build import graphene  # Importa el módulo para construir estructuras de grafeno en ASE.\n",
    "from ase.io import write       # Importa la función para exportar estructuras a diferentes formatos (como Quantum ESPRESSO).\n",
    "from ase import Atoms          # Importa la clase Atoms para crear y manipular átomos individuales o moléculas.\n",
    "\n",
    "from ase.visualize import view # Importa la herramienta para visualizar la estructura\n",
    "\n",
    "import numpy as np             # Importa numpy para trabajar con operaciones matemáticas y vectores.\n"
   ]
  },
  {
   "cell_type": "markdown",
   "metadata": {},
   "source": [
    "# Hoja de grafeno con Hidrogeno en sobre el primer atomo de carbono"
   ]
  },
  {
   "cell_type": "code",
   "execution_count": 55,
   "metadata": {},
   "outputs": [
    {
     "data": {
      "text/plain": [
       "<Popen: returncode: None args: ['/home/hernan-barquero/anaconda3/bin/python'...>"
      ]
     },
     "execution_count": 55,
     "metadata": {},
     "output_type": "execute_result"
    }
   ],
   "source": [
    "unit_cell = graphene() # La función graphene() genera una celda unitaria estándar de grafeno con una constante de red predeterminada (a = 2.46 Å).\n",
    "#view(unit_cell)\n",
    "\n",
    "supercell_over = unit_cell.repeat((3,3,1)) # La función repeat((3, 3, 1)) repite la celda unitaria en las direcciones x e y para formar una supercelda de 3x3 hexágonos.\n",
    "#view(supercell_over)\n",
    "\n",
    "# Selecciona el primer átomo de carbono de la supercelda (índice 0) y coloca un átomo de hidrógeno justo encima de él.\n",
    "# El desplazamiento en el eje z es de 1.1 Å para evitar superposición.\n",
    "\n",
    "hydrogen_1_position = supercell_over[0].position + np.array([0, 0, 1.1])\n",
    "\n",
    "# Añadir los átomos de hidrógeno\n",
    "# Usa la clase Atoms para definir un átomo de hidrógeno en la posición calculada y lo agrega a la supercelda.\n",
    "\n",
    "supercell_over += Atoms(\"H\", positions=[hydrogen_1_position])\n",
    "\n",
    "#view(supercell_over) # Vista antes de central la molécula en el centro del espacio generado\n",
    "\n",
    "\n",
    "cell_params = [list(supercell_over.cell[0]),\n",
    "\t\t\t\tlist(supercell_over.cell[1]),\n",
    "\t\t\t\t[0.0,0.0,15.0]]\n",
    "\n",
    "supercell_over.cell[2][2] = 15.0\n",
    "\n",
    "supercell_over.positions[:,2] += (cell_params[2][2]/2) - supercell_over.get_center_of_mass()[2]\n",
    "\n",
    "view(supercell_over) # Molécula centrada en el espacio generado"
   ]
  },
  {
   "cell_type": "code",
   "execution_count": 56,
   "metadata": {},
   "outputs": [],
   "source": [
    "# Genera un archivo de entrada para Quantum ESPRESSO con la configuración donde el hidrógeno está sobre el átomo de carbono.\n",
    "write(\"graphene_h_over_c.in\", supercell_over, format=\"espresso-in\", \n",
    "\tpseudopotentials={\n",
    "    \"C\": \"C.pbe-n-kjpaw_psl.1.0.0.UPF\",  # Especifica el pseudopotencial para carbono.\n",
    "    \"H\": \"H.pbe-kjpaw_psl.1.0.0.UPF\"     # Especifica el pseudopotencial para hidrógeno.\n",
    "}, input_data={\n",
    "    \"control\": {\n",
    "        \"calculation\": \"relax\",           # Indica que se hará una relajación de la estructura.\n",
    "        \"prefix\": \"graphene_h_over_c\",    # Prefijo para los archivos de salida generados por Quantum ESPRESSO.\n",
    "        \"outdir\": \".\",             # Carpeta donde se guardarán los archivos temporales de Quantum ESPRESSO.\n",
    "        \"pseudo_dir\": \"/home/ebarquero/practicas/p2/pseudo/\",          # Carpeta donde se encuentran los pseudopotenciales.\n",
    "\t\t\"tstress\": True,\n",
    "\t\t\"tprnfor\": True\n",
    "    },\n",
    "    \"system\": {\n",
    "        \"ecutwfc\": 60,                    # Corte de energía para las funciones de onda (en Ry).\n",
    "        \"ecutrho\": 600,                   # Corte de energía para la densidad de carga (en Ry).\n",
    "        \"occupations\": \"smearing\",        # Usa un método de smearing para las ocupaciones electrónicas.\n",
    "        \"smearing\": \"mp\",                 # Método de smearing: Methfessel-Paxton.\n",
    "        \"degauss\": 0.02 ,                  # Ancho del smearing en Ry.\n",
    "\t\t\"ibrav\":0, \t\t\t\t\t\t\t# Define una celda generica\n",
    "    },\n",
    "    \"electrons\": {\n",
    "        \"conv_thr\": 1e-6                  # Criterio de convergencia para las iteraciones electrónicas.\n",
    "    }\n",
    "}, kpts = (3,3,3),koffset = (0,0,0))"
   ]
  },
  {
   "cell_type": "markdown",
   "metadata": {},
   "source": [
    "# Hoja de grafeno con Hidrogeno en el centro de un hexagono"
   ]
  },
  {
   "cell_type": "code",
   "execution_count": 57,
   "metadata": {},
   "outputs": [
    {
     "data": {
      "text/plain": [
       "<Popen: returncode: None args: ['/home/hernan-barquero/anaconda3/bin/python'...>"
      ]
     },
     "execution_count": 57,
     "metadata": {},
     "output_type": "execute_result"
    }
   ],
   "source": [
    "supercell_in = unit_cell.repeat((3,3,1)) # La función repeat((3, 3, 1)) repite la celda unitaria en las direcciones x e y para formar una supercelda de 3x3 hexágonos.\n",
    "#view(supercell_in)\n",
    "\n",
    "# Calcula el centro de un hexágono al tomar el promedio de las posiciones de dos átomos de carbono vecinos (índices 0 y 3).\n",
    "# Luego, agrega un desplazamiento de 1.1 Å en la dirección z.\n",
    "\n",
    "center_hex_position = (supercell_in[0].position + supercell_in[3].position) / 2 + np.array([0, 0, 1.1])\n",
    "\n",
    "# Añadir los átomos de hidrógeno\n",
    "# Usa la clase Atoms para definir un átomo de hidrógeno en la posición calculada y lo agrega a la supercelda.\n",
    "\n",
    "supercell_in += Atoms(\"H\", positions=[center_hex_position])\n",
    "\n",
    "\n",
    "cell_params = [list(supercell_in.cell[0]),\n",
    "\t\t\t\tlist(supercell_in.cell[1]),\n",
    "\t\t\t\t[0.0,0.0,15.0]]\n",
    "\n",
    "supercell_in.cell[2][2] = 15.0\n",
    "\n",
    "supercell_in.positions[:,2] += (cell_params[2][2]/2) - supercell_in.get_center_of_mass()[2]\n",
    "\n",
    "\n",
    "view(supercell_in)"
   ]
  },
  {
   "cell_type": "code",
   "execution_count": 58,
   "metadata": {},
   "outputs": [],
   "source": [
    "# Genera un archivo de entrada para Quantum ESPRESSO con la configuración donde el hidrógeno está sobre el átomo de carbono.\n",
    "write(\"graphene_h_in_c.in\", supercell_in, format=\"espresso-in\", pseudopotentials={\n",
    "    \"C\": \"C.pbe-n-kjpaw_psl.1.0.0.UPF\",  # Especifica el pseudopotencial para carbono.\n",
    "    \"H\": \"H.pbe-kjpaw_psl.1.0.0.UPF\"     # Especifica el pseudopotencial para hidrógeno.\n",
    "}, input_data={\n",
    "    \"control\": {\n",
    "        \"calculation\": \"relax\",           # Indica que se hará una relajación de la estructura.\n",
    "        \"prefix\": \"graphene_h_over_c\",    # Prefijo para los archivos de salida generados por Quantum ESPRESSO.\n",
    "        \"outdir\": \".\",             # Carpeta donde se guardarán los archivos temporales de Quantum ESPRESSO.\n",
    "        \"pseudo_dir\": \"/home/ebarquero/practicas/p2/pseudo/\",          # Carpeta donde se encuentran los pseudopotenciales.\n",
    "\t\t\"tstress\": True,\n",
    "\t\t\"tprnfor\": True\n",
    "    },\n",
    "    \"system\": {\n",
    "        \"ecutwfc\": 60,                    # Corte de energía para las funciones de onda (en Ry).\n",
    "        \"ecutrho\": 600,                   # Corte de energía para la densidad de carga (en Ry).\n",
    "        \"occupations\": \"smearing\",        # Usa un método de smearing para las ocupaciones electrónicas.\n",
    "        \"smearing\": \"mp\",                 # Método de smearing: Methfessel-Paxton.\n",
    "        \"degauss\": 0.02 ,                  # Ancho del smearing en Ry.\n",
    "\t\t\"ibrav\":0, \t\t\t\t\t\t\t# Define una celda generica\n",
    "    },\n",
    "    \"electrons\": {\n",
    "        \"conv_thr\": 1e-6                  # Criterio de convergencia para las iteraciones electrónicas.\n",
    "    }\n",
    "}, kpts = (3,3,3),koffset = (0,0,0))"
   ]
  }
 ],
 "metadata": {
  "kernelspec": {
   "display_name": "base",
   "language": "python",
   "name": "python3"
  },
  "language_info": {
   "codemirror_mode": {
    "name": "ipython",
    "version": 3
   },
   "file_extension": ".py",
   "mimetype": "text/x-python",
   "name": "python",
   "nbconvert_exporter": "python",
   "pygments_lexer": "ipython3",
   "version": "3.12.2"
  }
 },
 "nbformat": 4,
 "nbformat_minor": 2
}
