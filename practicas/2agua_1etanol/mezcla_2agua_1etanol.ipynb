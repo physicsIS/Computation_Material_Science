{
 "cells": [
  {
   "cell_type": "markdown",
   "metadata": {},
   "source": [
    "Se usó el archivo `packmol.inp` como input para Packmol. Para correrlo se utilizó Julia y desde el interpretador de Julia, una vez aquí se utilizó lo siguente:\n",
    "\n",
    "```julia\n",
    "using Packmol;\n",
    "run_packmon()\n",
    "```\n",
    "\n",
    "De modo que se abríera la interfaz de Packmol para escoger el archivo que tenía el input correspondiente"
   ]
  },
  {
   "cell_type": "code",
   "execution_count": 18,
   "metadata": {},
   "outputs": [
    {
     "data": {
      "text/plain": [
       "<Popen: returncode: None args: ['/home/hernan-barquero/anaconda3/bin/python'...>"
      ]
     },
     "execution_count": 18,
     "metadata": {},
     "output_type": "execute_result"
    }
   ],
   "source": [
    "from ase import Atoms\n",
    "from ase.io import read, write\n",
    "from ase.visualize import view # Importa la herramienta para visualizar la estructura\n",
    "mol = read(\"mezcla.xyz\")\n",
    "view(mol)"
   ]
  },
  {
   "cell_type": "code",
   "execution_count": 20,
   "metadata": {},
   "outputs": [
    {
     "data": {
      "text/plain": [
       "<Popen: returncode: None args: ['/home/hernan-barquero/anaconda3/bin/python'...>"
      ]
     },
     "execution_count": 20,
     "metadata": {},
     "output_type": "execute_result"
    }
   ],
   "source": [
    "mol.cell = [[25.0,0.0,0.0],[0.0,25.0,0.0],[0.0,0.0,25.0]]\n",
    "mol.positions[:,0] += 2.5\n",
    "mol.positions[:,1] += 2.5\n",
    "mol.positions[:,2] += 2.5\n",
    "view(mol)"
   ]
  },
  {
   "cell_type": "code",
   "execution_count": null,
   "metadata": {},
   "outputs": [],
   "source": [
    "# Genera un archivo de entrada para Quantum ESPRESSO con la configuración donde el hidrógeno está sobre el átomo de carbono.\n",
    "write(\"mezcla_2agua_1etano.in\", mol, format=\"espresso-in\", \n",
    "\tpseudopotentials={\n",
    "    \"C\": \"C.pbe-n-kjpaw_psl.1.0.0.UPF\",  # Especifica el pseudopotencial para carbono.\n",
    "    \"H\": \"H.pbe-kjpaw_psl.1.0.0.UPF\",     # Especifica el pseudopotencial para hidrógeno.\n",
    "\t\"O\": \"O.pbe-n-kjpaw_psl.1.0.0.UPF\"\n",
    "}, input_data={\n",
    "    \"control\": {\n",
    "        \"calculation\": \"relax\",           # Indica que se hará una relajación de la estructura.\n",
    "        \"prefix\": \"2A_1E\",    # Prefijo para los archivos de salida generados por Quantum ESPRESSO.\n",
    "        \"outdir\": \".\",             # Carpeta donde se guardarán los archivos temporales de Quantum ESPRESSO.\n",
    "        \"pseudo_dir\": \"/home/ebarquero/practicas/p3/pseudo/\",          # Carpeta donde se encuentran los pseudopotenciales.\n",
    "\t\t\"tstress\": True,\n",
    "\t\t\"tprnfor\": True\n",
    "    },\n",
    "    \"system\": {\n",
    "        \"ecutwfc\": 50,                    # Corte de energía para las funciones de onda (en Ry).\n",
    "        \"ecutrho\": 330,                   # Corte de energía para la densidad de carga (en Ry).\n",
    "        \"occupations\": \"smearing\",        # Usa un método de smearing para las ocupaciones electrónicas.\n",
    "        \"smearing\": \"mp\",                 # Método de smearing: Methfessel-Paxton.\n",
    "        \"degauss\": 0.02 ,                  # Ancho del smearing en Ry.\n",
    "\t\t\"ibrav\":0, \t\t\t\t\t\t\t# Define una celda generica\n",
    "    },\n",
    "    \"electrons\": {\n",
    "        \"conv_thr\": 1e-6                  # Criterio de convergencia para las iteraciones electrónicas.\n",
    "    }\n",
    "}, kpts = (1,1,1),koffset = (0,0,0))"
   ]
  }
 ],
 "metadata": {
  "kernelspec": {
   "display_name": "base",
   "language": "python",
   "name": "python3"
  },
  "language_info": {
   "codemirror_mode": {
    "name": "ipython",
    "version": 3
   },
   "file_extension": ".py",
   "mimetype": "text/x-python",
   "name": "python",
   "nbconvert_exporter": "python",
   "pygments_lexer": "ipython3",
   "version": "3.12.2"
  }
 },
 "nbformat": 4,
 "nbformat_minor": 2
}
