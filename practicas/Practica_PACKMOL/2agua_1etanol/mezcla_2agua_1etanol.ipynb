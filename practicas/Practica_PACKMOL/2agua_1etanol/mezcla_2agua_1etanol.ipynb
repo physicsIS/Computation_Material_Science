{
 "cells": [
  {
   "cell_type": "markdown",
   "metadata": {},
   "source": [
    "# Enunciado\n",
    "\n",
    "Genere un modelo de líquido compuesto por agua y etanol en una relación de volumen 2:1 dentro de una celda cúbica de 20 Å de lado. Busque en la web los archivos XYZ para las moléculas de agua y etanol, calcule el número necesario de moléculas de cada tipo y utilice PACKMOL para construir el líquido. Configure las restricciones para evitar solapamiento y verifique el archivo resultante."
   ]
  },
  {
   "cell_type": "markdown",
   "metadata": {},
   "source": [
    "Cálculo del número de moléculas\n",
    "Para determinar cuántas moléculas caben en la celda:\n",
    "\n",
    "Volumen de la celda: $20^3 Å^3 = 8000 Å^3 $\n",
    "\n",
    "Densidades y masas molares:\n",
    "\n",
    "* Agua: 1.0 g/cm³, 18.015 g/mol\n",
    "\n",
    "* Etanol: 0.789 g/cm³, 46.07 g/mol\n",
    "\n",
    "Dado que la fracción de volumen es $\\frac{2}{3}$ para agua y $\\frac{1}{3}$ para etanol:\n",
    "\n",
    "* Masa total de agua:\n",
    "\n",
    "$$m_{agua} = (\\frac{2}{3} \\times 8000 Å^3) \\times \\frac{1 g/cm^{3}}{10^{24} Å^{3}/cm^{3}} = 5.33 \\times 10 ^{-21} g$$\n",
    "\n",
    "* Número de moléculas de agua:\n",
    "\n",
    "$$\\frac{5.33 \\times 10 ^{-21} g}{18.015  \\times 10 ^{-24} g/mol} \\approx 296$$\n",
    "\n",
    "* Masa total de etanol:\n",
    "\n",
    "$$m_{etanol} = (\\frac{1}{3} \\times 8000 Å^3) \\times \\frac{0.789 g/cm^{3}}{10^{24} Å^{3}/cm^{3}} = 2.10 \\times 10 ^{-21} g$$\n",
    "\n",
    "* Número de moléculas de etanol:\n",
    "\n",
    "$$\\frac{2.10 \\times 10 ^{-21} g}{46.07 \\times 10^{-24} g/mol} \\approx 46$$\n",
    "\n",
    "Por lo tanto, necesitas aproximadamente 296 moléculas de agua y 46 de etanol en la celda de 20 Å³."
   ]
  },
  {
   "cell_type": "markdown",
   "metadata": {},
   "source": [
    "Se usó el archivo `packmol.inp` como input para Packmol. Para correrlo se utilizó Julia y desde el interpretador de Julia, una vez aquí se utilizó lo siguente:\n",
    "\n",
    "```julia\n",
    "using Packmol;\n",
    "run_packmon()\n",
    "```\n",
    "\n",
    "De modo que se abríera la interfaz de Packmol para escoger el archivo que tenía el input correspondiente"
   ]
  },
  {
   "cell_type": "code",
   "execution_count": 1,
   "metadata": {},
   "outputs": [
    {
     "data": {
      "text/plain": [
       "<Popen: returncode: None args: ['/home/hernan-barquero/anaconda3/bin/python'...>"
      ]
     },
     "execution_count": 1,
     "metadata": {},
     "output_type": "execute_result"
    }
   ],
   "source": [
    "from ase import Atoms\n",
    "from ase.io import read, write\n",
    "from ase.visualize import view # Importa la herramienta para visualizar la estructura\n",
    "mol = read(\"mezcla.xyz\")\n",
    "view(mol)"
   ]
  },
  {
   "cell_type": "code",
   "execution_count": 2,
   "metadata": {},
   "outputs": [
    {
     "data": {
      "text/plain": [
       "<Popen: returncode: None args: ['/home/hernan-barquero/anaconda3/bin/python'...>"
      ]
     },
     "execution_count": 2,
     "metadata": {},
     "output_type": "execute_result"
    }
   ],
   "source": [
    "mol.cell = [[25.0,0.0,0.0],[0.0,25.0,0.0],[0.0,0.0,25.0]]\n",
    "mol.positions[:,0] += 2.5\n",
    "mol.positions[:,1] += 2.5\n",
    "mol.positions[:,2] += 2.5\n",
    "view(mol)"
   ]
  },
  {
   "cell_type": "code",
   "execution_count": 3,
   "metadata": {},
   "outputs": [],
   "source": [
    "# Genera un archivo de entrada para Quantum ESPRESSO con la configuración donde el hidrógeno está sobre el átomo de carbono.\n",
    "write(\"mezcla_2agua_1etano.in\", mol, format=\"espresso-in\", \n",
    "\tpseudopotentials={\n",
    "    \"C\": \"C.pbe-n-kjpaw_psl.1.0.0.UPF\",  # Especifica el pseudopotencial para carbono.\n",
    "    \"H\": \"H.pbe-kjpaw_psl.1.0.0.UPF\",     # Especifica el pseudopotencial para hidrógeno.\n",
    "\t\"O\": \"O.pbe-n-kjpaw_psl.1.0.0.UPF\"\n",
    "}, input_data={\n",
    "    \"control\": {\n",
    "        \"calculation\": \"relax\",           # Indica que se hará una relajación de la estructura.\n",
    "        \"prefix\": \"2A_1E\",    # Prefijo para los archivos de salida generados por Quantum ESPRESSO.\n",
    "        \"outdir\": \".\",             # Carpeta donde se guardarán los archivos temporales de Quantum ESPRESSO.\n",
    "        \"pseudo_dir\": \"/home/ebarquero/practicas/p3/pseudo/\",          # Carpeta donde se encuentran los pseudopotenciales.\n",
    "\t\t\"tstress\": True,\n",
    "\t\t\"tprnfor\": True\n",
    "    },\n",
    "    \"system\": {\n",
    "        \"ecutwfc\": 50,                    # Corte de energía para las funciones de onda (en Ry).\n",
    "        \"ecutrho\": 330,                   # Corte de energía para la densidad de carga (en Ry).\n",
    "        \"occupations\": \"smearing\",        # Usa un método de smearing para las ocupaciones electrónicas.\n",
    "        \"smearing\": \"mp\",                 # Método de smearing: Methfessel-Paxton.\n",
    "        \"degauss\": 0.02 ,                  # Ancho del smearing en Ry.\n",
    "\t\t\"ibrav\":0, \t\t\t\t\t\t\t# Define una celda generica\n",
    "    },\n",
    "    \"electrons\": {\n",
    "        \"conv_thr\": 1e-6                  # Criterio de convergencia para las iteraciones electrónicas.\n",
    "    }\n",
    "}, kpts = (1,1,1),koffset = (0,0,0))"
   ]
  }
 ],
 "metadata": {
  "kernelspec": {
   "display_name": "base",
   "language": "python",
   "name": "python3"
  },
  "language_info": {
   "codemirror_mode": {
    "name": "ipython",
    "version": 3
   },
   "file_extension": ".py",
   "mimetype": "text/x-python",
   "name": "python",
   "nbconvert_exporter": "python",
   "pygments_lexer": "ipython3",
   "version": "3.12.2"
  }
 },
 "nbformat": 4,
 "nbformat_minor": 2
}
