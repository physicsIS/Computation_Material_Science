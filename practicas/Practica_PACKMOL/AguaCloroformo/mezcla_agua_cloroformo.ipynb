{
 "cells": [
  {
   "cell_type": "markdown",
   "metadata": {},
   "source": [
    "# Enunciado\n",
    "\n",
    "Genere un modelo de líquido compuesto por agua y cloroformo en una relación de volumen 5:3 dentro de una celda cúbica de 30 Å de lado. Descargue los archivos XYZ para ambas moléculas, realice los cálculos necesarios para determinar el número de moléculas de cada tipo y utilice PACKMOL para crear el archivo del líquido. Revise que las restricciones de solapamiento se hayan respetado correctamente."
   ]
  },
  {
   "cell_type": "markdown",
   "metadata": {},
   "source": [
    "## Cálculo del número de moléculas (relación volumen 5:3)\n",
    "\n",
    "Para determinar cuántas moléculas caben en la celda con la nueva relación de volumen 5:3 (agua:cloroformo):\n",
    "\n",
    "**Volumen de la celda**:  \n",
    "$$ 30^3 \\, \\text{Å}^3 = 27000 \\, \\text{Å}^3 $$\n",
    "\n",
    "**Relación de volumen 5:3**:\n",
    "- **Volumen de agua**:  \n",
    "$$ V_{\\text{agua}} = \\frac{5}{8} \\times 27000 \\, \\text{Å}^3 = 16875 \\, \\text{Å}^3 $$\n",
    "\n",
    "- **Volumen de cloroformo**:  \n",
    "$$ V_{\\text{cloroformo}} = \\frac{3}{8} \\times 27000 \\, \\text{Å}^3 = 10125 \\, \\text{Å}^3 $$\n",
    "\n",
    "**Densidades y masas molares**:\n",
    "\n",
    "- **Agua**: 0,998 g/cm³, 18.015 g/mol\n",
    "- **Cloroformo**: 1.489 g/cm³, 119.38 g/mol\n",
    "\n",
    "---\n",
    "\n",
    "**Masa total de agua**:\n",
    "\n",
    "$$\n",
    "m_{\\text{agua}} = \\left( \\frac{16875 \\, \\text{Å}^3}{10^{24} \\, \\text{Å}^3/\\text{cm}^3} \\right) \\times 0.998 \\, \\text{g/cm}^3 = 1.685 \\times 10^{-20} \\, \\text{g}\n",
    "$$\n",
    "\n",
    "---\n",
    "\n",
    "**Número de moléculas de agua**:\n",
    "\n",
    "$$\n",
    "\\frac{1.685 \\times 10^{-20} \\, \\text{g}}{18.015 \\times 10^{-24} \\, \\text{g/mol}} \\approx 935\n",
    "$$\n",
    "\n",
    "---\n",
    "\n",
    "**Masa total de cloroformo**:\n",
    "\n",
    "$$\n",
    "m_{\\text{cloroformo}} = \\left( \\frac{10125 \\, \\text{Å}^3}{10^{24} \\, \\text{Å}^3/\\text{cm}^3} \\right) \\times 1.489 \\, \\text{g/cm}^3 = 1.51 \\times 10^{-20} \\, \\text{g}\n",
    "$$\n",
    "\n",
    "---\n",
    "\n",
    "**Número de moléculas de cloroformo**:\n",
    "\n",
    "$$\n",
    "\\frac{1.51 \\times 10^{-20} \\, \\text{g}}{119.38 \\times 10^{-24} \\, \\text{g/mol}} \\approx 13\n",
    "$$\n",
    "\n",
    "---\n",
    "\n",
    "Por lo tanto, en la celda de $$ 30^3 \\, \\text{Å}^3 $$ con una relación de volumen 5:3, se necesitarían aproximadamente **935 moléculas de agua** y **13 moléculas de cloroformo**.\n"
   ]
  },
  {
   "cell_type": "code",
   "execution_count": 1,
   "metadata": {},
   "outputs": [
    {
     "data": {
      "text/plain": [
       "<Popen: returncode: None args: ['/home/hernan-barquero/anaconda3/bin/python'...>"
      ]
     },
     "execution_count": 1,
     "metadata": {},
     "output_type": "execute_result"
    }
   ],
   "source": [
    "from ase import Atoms\n",
    "from ase.io import read, write\n",
    "from ase.visualize import view # Importa la herramienta para visualizar la estructura\n",
    "mol = read(\"mezcla.xyz\")\n",
    "view(mol)"
   ]
  }
 ],
 "metadata": {
  "kernelspec": {
   "display_name": "base",
   "language": "python",
   "name": "python3"
  },
  "language_info": {
   "codemirror_mode": {
    "name": "ipython",
    "version": 3
   },
   "file_extension": ".py",
   "mimetype": "text/x-python",
   "name": "python",
   "nbconvert_exporter": "python",
   "pygments_lexer": "ipython3",
   "version": "3.12.2"
  }
 },
 "nbformat": 4,
 "nbformat_minor": 2
}
